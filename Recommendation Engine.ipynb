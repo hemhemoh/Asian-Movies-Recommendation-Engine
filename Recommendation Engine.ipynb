{
 "cells": [
  {
   "cell_type": "code",
   "execution_count": 1,
   "id": "7d169611",
   "metadata": {},
   "outputs": [],
   "source": [
    "# lets import the basic Libraries\n",
    "import numpy as np\n",
    "import pandas as pd\n",
    "import difflib\n",
    "from sklearn.feature_extraction.text import CountVectorizer,TfidfVectorizer\n",
    "from sklearn.metrics.pairwise import cosine_similarity\n",
    "import warnings\n",
    "warnings.filterwarnings('ignore')"
   ]
  },
  {
   "cell_type": "code",
   "execution_count": 2,
   "id": "e31bffc5",
   "metadata": {},
   "outputs": [],
   "source": [
    "#reading the cleaned data into a database\n",
    "movies_df = pd.read_csv('cleanedmovies.csv')"
   ]
  },
  {
   "cell_type": "code",
   "execution_count": 3,
   "id": "b717cb12",
   "metadata": {},
   "outputs": [
    {
     "data": {
      "text/html": [
       "<div>\n",
       "<style scoped>\n",
       "    .dataframe tbody tr th:only-of-type {\n",
       "        vertical-align: middle;\n",
       "    }\n",
       "\n",
       "    .dataframe tbody tr th {\n",
       "        vertical-align: top;\n",
       "    }\n",
       "\n",
       "    .dataframe thead th {\n",
       "        text-align: right;\n",
       "    }\n",
       "</style>\n",
       "<table border=\"1\" class=\"dataframe\">\n",
       "  <thead>\n",
       "    <tr style=\"text-align: right;\">\n",
       "      <th></th>\n",
       "      <th>Title</th>\n",
       "      <th>Rating</th>\n",
       "      <th>Description</th>\n",
       "      <th>Country</th>\n",
       "      <th>Episodes</th>\n",
       "      <th>Year</th>\n",
       "      <th>Genre1</th>\n",
       "      <th>Genre2</th>\n",
       "      <th>Genre3</th>\n",
       "      <th>Genre4</th>\n",
       "      <th>Genre5</th>\n",
       "      <th>Genre6</th>\n",
       "      <th>Cast1</th>\n",
       "      <th>Cast2</th>\n",
       "      <th>Cast3</th>\n",
       "      <th>Cast4</th>\n",
       "      <th>Cast5</th>\n",
       "      <th>Cast6</th>\n",
       "    </tr>\n",
       "  </thead>\n",
       "  <tbody>\n",
       "    <tr>\n",
       "      <th>0</th>\n",
       "      <td>Amazing Saturday</td>\n",
       "      <td>3.5</td>\n",
       "      <td>the poster shows shin dong yup girls days hyer...</td>\n",
       "      <td>korean</td>\n",
       "      <td>100.0</td>\n",
       "      <td>2018</td>\n",
       "      <td>drama</td>\n",
       "      <td>comedy</td>\n",
       "      <td>drama</td>\n",
       "      <td>food</td>\n",
       "      <td>music</td>\n",
       "      <td>korean</td>\n",
       "      <td>shin dong yup</td>\n",
       "      <td>key</td>\n",
       "      <td>park na rae</td>\n",
       "      <td>hyeri</td>\n",
       "      <td>shin dong yup</td>\n",
       "      <td>shin dong yup</td>\n",
       "    </tr>\n",
       "    <tr>\n",
       "      <th>1</th>\n",
       "      <td>I Can See Your Voice Season 9</td>\n",
       "      <td>3.0</td>\n",
       "      <td>i can see your voice is a mystery music game s...</td>\n",
       "      <td>korean</td>\n",
       "      <td>10.0</td>\n",
       "      <td>2022</td>\n",
       "      <td>drama</td>\n",
       "      <td>kshow</td>\n",
       "      <td>music</td>\n",
       "      <td>mystery</td>\n",
       "      <td>korean</td>\n",
       "      <td>drama</td>\n",
       "      <td>ha sung woon</td>\n",
       "      <td></td>\n",
       "      <td>lee teuk</td>\n",
       "      <td>yoo se yoon</td>\n",
       "      <td>lee hyun yi</td>\n",
       "      <td>kim seung hyun</td>\n",
       "    </tr>\n",
       "    <tr>\n",
       "      <th>2</th>\n",
       "      <td>Omniscient Interfering View</td>\n",
       "      <td>3.0</td>\n",
       "      <td>the managers who know more about the stars the...</td>\n",
       "      <td>korean</td>\n",
       "      <td>200.0</td>\n",
       "      <td>2017</td>\n",
       "      <td>drama</td>\n",
       "      <td>game-show</td>\n",
       "      <td>kshow</td>\n",
       "      <td>korean</td>\n",
       "      <td>drama</td>\n",
       "      <td>drama</td>\n",
       "      <td>NaN</td>\n",
       "      <td>NaN</td>\n",
       "      <td>NaN</td>\n",
       "      <td>NaN</td>\n",
       "      <td>NaN</td>\n",
       "      <td>NaN</td>\n",
       "    </tr>\n",
       "    <tr>\n",
       "      <th>3</th>\n",
       "      <td>Mr. House Husband</td>\n",
       "      <td>3.0</td>\n",
       "      <td>dear valued customer 1 dramacool regularly upd...</td>\n",
       "      <td>korean</td>\n",
       "      <td>200.0</td>\n",
       "      <td>2016</td>\n",
       "      <td>drama</td>\n",
       "      <td>drama</td>\n",
       "      <td>family</td>\n",
       "      <td>food</td>\n",
       "      <td>kshow</td>\n",
       "      <td>korean</td>\n",
       "      <td>kim eli</td>\n",
       "      <td>lee chul min</td>\n",
       "      <td>son tae young</td>\n",
       "      <td>kim jung tae</td>\n",
       "      <td>kim seung woo</td>\n",
       "      <td>bong tae gyu</td>\n",
       "    </tr>\n",
       "    <tr>\n",
       "      <th>4</th>\n",
       "      <td>The Game Caterers Season 2</td>\n",
       "      <td>4.0</td>\n",
       "      <td>a business trip program with pd na young seok ...</td>\n",
       "      <td>korean</td>\n",
       "      <td>12.0</td>\n",
       "      <td>2022</td>\n",
       "      <td>drama</td>\n",
       "      <td>business</td>\n",
       "      <td>kshow</td>\n",
       "      <td>korean</td>\n",
       "      <td>drama</td>\n",
       "      <td>drama</td>\n",
       "      <td>im ji yeon</td>\n",
       "      <td>lee seo jin</td>\n",
       "      <td>jung hyung suk</td>\n",
       "      <td>lee jung jae</td>\n",
       "      <td>jung woo sung</td>\n",
       "      <td>oh se hun</td>\n",
       "    </tr>\n",
       "  </tbody>\n",
       "</table>\n",
       "</div>"
      ],
      "text/plain": [
       "                            Title  Rating  \\\n",
       "0               Amazing Saturday      3.5   \n",
       "1  I Can See Your Voice Season 9      3.0   \n",
       "2    Omniscient Interfering View      3.0   \n",
       "3              Mr. House Husband      3.0   \n",
       "4     The Game Caterers Season 2      4.0   \n",
       "\n",
       "                                         Description Country  Episodes  Year  \\\n",
       "0  the poster shows shin dong yup girls days hyer...  korean     100.0  2018   \n",
       "1  i can see your voice is a mystery music game s...  korean      10.0  2022   \n",
       "2  the managers who know more about the stars the...  korean     200.0  2017   \n",
       "3  dear valued customer 1 dramacool regularly upd...  korean     200.0  2016   \n",
       "4  a business trip program with pd na young seok ...  korean      12.0  2022   \n",
       "\n",
       "   Genre1       Genre2    Genre3     Genre4    Genre5    Genre6  \\\n",
       "0  drama       comedy     drama       food     music    korean    \n",
       "1  drama        kshow     music    mystery    korean     drama    \n",
       "2  drama    game-show     kshow     korean     drama     drama    \n",
       "3  drama        drama    family       food     kshow    korean    \n",
       "4  drama     business     kshow     korean     drama     drama    \n",
       "\n",
       "           Cast1          Cast2            Cast3          Cast4  \\\n",
       "0  shin dong yup            key      park na rae          hyeri   \n",
       "1   ha sung woon                        lee teuk    yoo se yoon   \n",
       "2            NaN            NaN              NaN            NaN   \n",
       "3        kim eli   lee chul min    son tae young   kim jung tae   \n",
       "4     im ji yeon    lee seo jin   jung hyung suk   lee jung jae   \n",
       "\n",
       "            Cast5            Cast6  \n",
       "0   shin dong yup    shin dong yup  \n",
       "1     lee hyun yi   kim seung hyun  \n",
       "2             NaN              NaN  \n",
       "3   kim seung woo     bong tae gyu  \n",
       "4   jung woo sung        oh se hun  "
      ]
     },
     "execution_count": 3,
     "metadata": {},
     "output_type": "execute_result"
    }
   ],
   "source": [
    "#printing the first 5 rows of the database\n",
    "movies_df.head()"
   ]
  },
  {
   "cell_type": "code",
   "execution_count": 4,
   "id": "04fe58b2",
   "metadata": {},
   "outputs": [
    {
     "data": {
      "text/plain": [
       "Title           object\n",
       "Rating         float64\n",
       "Description     object\n",
       "Country         object\n",
       "Episodes       float64\n",
       "Year             int64\n",
       "Genre1          object\n",
       "Genre2          object\n",
       "Genre3          object\n",
       "Genre4          object\n",
       "Genre5          object\n",
       "Genre6          object\n",
       "Cast1           object\n",
       "Cast2           object\n",
       "Cast3           object\n",
       "Cast4           object\n",
       "Cast5           object\n",
       "Cast6           object\n",
       "dtype: object"
      ]
     },
     "execution_count": 4,
     "metadata": {},
     "output_type": "execute_result"
    }
   ],
   "source": [
    "#checking the types of the columns\n",
    "movies_df.dtypes"
   ]
  },
  {
   "cell_type": "code",
   "execution_count": 5,
   "id": "58057db3",
   "metadata": {},
   "outputs": [
    {
     "data": {
      "text/plain": [
       "Title             0\n",
       "Rating            0\n",
       "Description       3\n",
       "Country           0\n",
       "Episodes          7\n",
       "Year              0\n",
       "Genre1            0\n",
       "Genre2            0\n",
       "Genre3            0\n",
       "Genre4            0\n",
       "Genre5            0\n",
       "Genre6            0\n",
       "Cast1          1256\n",
       "Cast2          1256\n",
       "Cast3          1256\n",
       "Cast4          1256\n",
       "Cast5          1256\n",
       "Cast6          1256\n",
       "dtype: int64"
      ]
     },
     "execution_count": 5,
     "metadata": {},
     "output_type": "execute_result"
    }
   ],
   "source": [
    "#checking for null values\n",
    "movies_df.isna().sum()"
   ]
  },
  {
   "cell_type": "code",
   "execution_count": 6,
   "id": "8db2eba1",
   "metadata": {},
   "outputs": [],
   "source": [
    "#filling the null values with an empty space\n",
    "movies_df.fillna(\"\", inplace =True)"
   ]
  },
  {
   "cell_type": "code",
   "execution_count": 7,
   "id": "3dbafad2",
   "metadata": {
    "scrolled": false
   },
   "outputs": [
    {
     "data": {
      "text/plain": [
       "Index(['Title', 'Rating', 'Description', 'Country', 'Episodes', 'Year',\n",
       "       'Genre1', 'Genre2', 'Genre3', 'Genre4', 'Genre5', 'Genre6', 'Cast1',\n",
       "       'Cast2', 'Cast3', 'Cast4', 'Cast5', 'Cast6'],\n",
       "      dtype='object')"
      ]
     },
     "execution_count": 7,
     "metadata": {},
     "output_type": "execute_result"
    }
   ],
   "source": [
    "#checking out the columns of a dataframe\n",
    "movies_df.columns"
   ]
  },
  {
   "cell_type": "code",
   "execution_count": 8,
   "id": "937746af",
   "metadata": {},
   "outputs": [],
   "source": [
    "#selecting the features to be used for building our recommendation system\n",
    "features = ['Title', 'Description', 'Country','Genre1', 'Genre2', 'Genre3', 'Genre4', 'Genre5', 'Genre6', 'Cast1', 'Cast2', 'Cast3', 'Cast4', 'Cast5', 'Cast6']"
   ]
  },
  {
   "cell_type": "code",
   "execution_count": 9,
   "id": "9cf1fc0d",
   "metadata": {},
   "outputs": [],
   "source": [
    "#concatenating the columns together\n",
    "selected_features= movies_df['Title']+' '+ movies_df['Description']+' '+movies_df['Country']+' '+movies_df['Genre1']+' '+movies_df['Genre2']+' '+movies_df['Genre3']+' '+movies_df['Genre4']+' '+movies_df['Genre5']+' '+['Genre6']+' '+['Cast1']+' '+['Cast2']+' '+['Cast3']+' '+['Cast4']+' '+['Cast5']+' '+['Cast6']"
   ]
  },
  {
   "cell_type": "code",
   "execution_count": 10,
   "id": "09204c99",
   "metadata": {},
   "outputs": [
    {
     "data": {
      "text/plain": [
       "0       Amazing Saturday  the poster shows shin dong y...\n",
       "1       I Can See Your Voice Season 9  i can see your ...\n",
       "2       Omniscient Interfering View  the managers who ...\n",
       "3       Mr. House Husband  dear valued customer 1 dram...\n",
       "4       The Game Caterers Season 2  a business trip pr...\n",
       "                              ...                        \n",
       "5623    Provocateur  after the deaths of his first and...\n",
       "5624    Married But Available  after experiencing a ne...\n",
       "5625    My Dearly Sinful Mind  after his girlfriend di...\n",
       "5626    The No No Girl  law lai jings love life has be...\n",
       "5627    My Unfair Lady  every one out of three hong ko...\n",
       "Length: 5628, dtype: object"
      ]
     },
     "execution_count": 10,
     "metadata": {},
     "output_type": "execute_result"
    }
   ],
   "source": [
    "#checking out the concatenated columns\n",
    "selected_features"
   ]
  },
  {
   "cell_type": "code",
   "execution_count": 11,
   "id": "778cb4c7",
   "metadata": {},
   "outputs": [],
   "source": [
    "#initializing the tfidf vectorizer\n",
    "vectorizer = TfidfVectorizer()"
   ]
  },
  {
   "cell_type": "code",
   "execution_count": 12,
   "id": "b63d95e0",
   "metadata": {},
   "outputs": [],
   "source": [
    "#using the tfidf vectorizer on the selected features.\n",
    "feature_vectors = vectorizer.fit_transform(selected_features)"
   ]
  },
  {
   "cell_type": "code",
   "execution_count": 13,
   "id": "3833e8b8",
   "metadata": {},
   "outputs": [
    {
     "name": "stdout",
     "output_type": "stream",
     "text": [
      "  (0, 2925)\t0.01993429931092891\n",
      "  (0, 2924)\t0.01993429931092891\n",
      "  (0, 2923)\t0.01993429931092891\n",
      "  (0, 2922)\t0.01993429931092891\n",
      "  (0, 2921)\t0.01993429931092891\n",
      "  (0, 2920)\t0.01993429931092891\n",
      "  (0, 7470)\t0.01993429931092891\n",
      "  (0, 12526)\t0.0733552256579647\n",
      "  (0, 6998)\t0.0853951285257509\n",
      "  (0, 3732)\t0.042507849113625824\n",
      "  (0, 5535)\t0.04037466968819127\n",
      "  (0, 10565)\t0.035516821441397464\n",
      "  (0, 9977)\t0.11854544326784888\n",
      "  (0, 975)\t0.06436400713658638\n",
      "  (0, 8177)\t0.05102937866662311\n",
      "  (0, 8229)\t0.04636330496224309\n",
      "  (0, 1250)\t0.10048017596591843\n",
      "  (0, 9628)\t0.05790254094580213\n",
      "  (0, 2390)\t0.12565550835703235\n",
      "  (0, 1525)\t0.05342580548743562\n",
      "  (0, 9136)\t0.15636320087530897\n",
      "  (0, 12657)\t0.08780218553173347\n",
      "  (0, 8497)\t0.045022678939715816\n",
      "  (0, 21328)\t0.038427858175357384\n",
      "  (0, 21121)\t0.08696711896128638\n",
      "  :\t:\n",
      "  (5627, 10880)\t0.06452019992851102\n",
      "  (5627, 13270)\t0.0593142012515144\n",
      "  (5627, 9115)\t0.08822157412930072\n",
      "  (5627, 19368)\t0.06348610611589839\n",
      "  (5627, 10513)\t0.06006641731993202\n",
      "  (5627, 21280)\t0.13379986119110987\n",
      "  (5627, 21216)\t0.05535773092285726\n",
      "  (5627, 9610)\t0.07144881510364112\n",
      "  (5627, 2925)\t0.01370311406004099\n",
      "  (5627, 2924)\t0.01370311406004099\n",
      "  (5627, 2923)\t0.01370311406004099\n",
      "  (5627, 2922)\t0.01370311406004099\n",
      "  (5627, 2921)\t0.01370311406004099\n",
      "  (5627, 2920)\t0.01370311406004099\n",
      "  (5627, 7470)\t0.01370311406004099\n",
      "  (5627, 5535)\t0.02775410839599677\n",
      "  (5627, 975)\t0.04424471196087585\n",
      "  (5627, 8177)\t0.0350783032488326\n",
      "  (5627, 8229)\t0.03187077941333853\n",
      "  (5627, 8497)\t0.030949214475840148\n",
      "  (5627, 13547)\t0.044154559569521655\n",
      "  (5627, 2716)\t0.06661891064261563\n",
      "  (5627, 19672)\t0.12156881805249603\n",
      "  (5627, 1073)\t0.019073072060365428\n",
      "  (5627, 19354)\t0.034870166872001715\n"
     ]
    }
   ],
   "source": [
    "print(feature_vectors)"
   ]
  },
  {
   "cell_type": "code",
   "execution_count": 14,
   "id": "e3689dfc",
   "metadata": {},
   "outputs": [],
   "source": [
    "#checking the similarity between the feature vectors\n",
    "similarity = cosine_similarity(feature_vectors)"
   ]
  },
  {
   "cell_type": "code",
   "execution_count": 15,
   "id": "3892368d",
   "metadata": {},
   "outputs": [
    {
     "name": "stdout",
     "output_type": "stream",
     "text": [
      "[[1.         0.03987866 0.08019611 ... 0.04382662 0.0610041  0.02602478]\n",
      " [0.03987866 1.         0.10490879 ... 0.02352589 0.04628462 0.03657855]\n",
      " [0.08019611 0.10490879 1.         ... 0.03940912 0.06214665 0.05127781]\n",
      " ...\n",
      " [0.04382662 0.02352589 0.03940912 ... 1.         0.09364563 0.05889837]\n",
      " [0.0610041  0.04628462 0.06214665 ... 0.09364563 1.         0.09178401]\n",
      " [0.02602478 0.03657855 0.05127781 ... 0.05889837 0.09178401 1.        ]]\n"
     ]
    }
   ],
   "source": [
    "print(similarity)"
   ]
  },
  {
   "cell_type": "code",
   "execution_count": 16,
   "id": "e32c8f46",
   "metadata": {},
   "outputs": [
    {
     "name": "stdout",
     "output_type": "stream",
     "text": [
      "(5628, 5628)\n"
     ]
    }
   ],
   "source": [
    "print(similarity.shape)"
   ]
  },
  {
   "cell_type": "code",
   "execution_count": null,
   "id": "4d81a47c",
   "metadata": {},
   "outputs": [],
   "source": [
    "\n",
    "movie_name = input('Enter your favorte movie:')"
   ]
  },
  {
   "cell_type": "code",
   "execution_count": null,
   "id": "28d047e7",
   "metadata": {},
   "outputs": [],
   "source": [
    "movies_df['Title'] = movies_df['Title'].str.rstrip()"
   ]
  },
  {
   "cell_type": "code",
   "execution_count": null,
   "id": "8b6d3d95",
   "metadata": {},
   "outputs": [],
   "source": [
    "list_of_all_title = movies_df['Title'].tolist()\n",
    "print(list_of_all_title)"
   ]
  },
  {
   "cell_type": "code",
   "execution_count": null,
   "id": "bcf9b166",
   "metadata": {},
   "outputs": [],
   "source": [
    "find_close_match = difflib.get_close_matches(movie_name, list_of_all_title)\n",
    "print(find_close_match)"
   ]
  },
  {
   "cell_type": "code",
   "execution_count": null,
   "id": "2c0a056e",
   "metadata": {},
   "outputs": [],
   "source": [
    "close_match = find_close_match[2]\n",
    "print(close_match)"
   ]
  },
  {
   "cell_type": "code",
   "execution_count": null,
   "id": "936671ec",
   "metadata": {},
   "outputs": [],
   "source": [
    "#find the index of the movie title\n",
    "index_of_the_movie = movies_df[movies_df.Title == close_match].index.values[0]\n",
    "print(index_of_the_movie)"
   ]
  },
  {
   "cell_type": "code",
   "execution_count": null,
   "id": "f2383b71",
   "metadata": {},
   "outputs": [],
   "source": [
    "sim_score = list(enumerate(similarity[index_of_the_movie]))"
   ]
  },
  {
   "cell_type": "code",
   "execution_count": null,
   "id": "7486b15a",
   "metadata": {},
   "outputs": [],
   "source": [
    "len(sim_score)"
   ]
  },
  {
   "cell_type": "code",
   "execution_count": null,
   "id": "ec2d974f",
   "metadata": {},
   "outputs": [],
   "source": [
    "#sorting the movies based on their similarity score\n",
    "sorted_similar_movies = sorted(sim_score, key = lambda x:x[1], reverse=True)\n",
    "print(sorted_similar_movies[:10])"
   ]
  },
  {
   "cell_type": "code",
   "execution_count": null,
   "id": "f096aa3c",
   "metadata": {},
   "outputs": [],
   "source": [
    "#print the name of similar movies based on the index\n",
    "\n",
    "print(\"Movies suggested for you : \\n\")\n",
    "\n",
    "i = 1\n",
    "\n",
    "for movie in sorted_similar_movies:\n",
    "    index = movie[0]\n",
    "    title_from_index = movies_df[movies_df.index == index]['Title'].values[0]\n",
    "    if i<30:\n",
    "        print(i, '-', title_from_index)\n",
    "        i += 1\n",
    "    "
   ]
  },
  {
   "cell_type": "markdown",
   "id": "19923ee0",
   "metadata": {},
   "source": [
    "# Putting everything together in a function."
   ]
  },
  {
   "cell_type": "code",
   "execution_count": null,
   "id": "beba6c22",
   "metadata": {},
   "outputs": [],
   "source": [
    "def movie_rec_system(movie_name):\n",
    "    if movie_name in movies_df['Title']:\n",
    "        list_of_all_title = movies_df['Title'].tolist()\n",
    "        find_close_match = difflib.get_close_matches(movie_name, list_of_all_title)\n",
    "        close_match = find_close_match[2]\n",
    "        index_of_the_movie = movies_df[movies_df.Title == close_match].index.values[0]\n",
    "        sim_score = list(enumerate(similarity[index_of_the_movie]))\n",
    "        sorted_similar_movies = sorted(sim_score, key = lambda x:x[1], reverse=True)\n",
    "\n",
    "        print(\"Movies suggested for you : \\n\")\n",
    "\n",
    "        i = 1\n",
    "\n",
    "        for movie in sorted_similar_movies:\n",
    "            index = movie[0]\n",
    "            title_from_index = movies_df[movies_df.index == index]['Title'].values[0]\n",
    "            if i<15:\n",
    "                print(i, '-', title_from_index)\n",
    "                i += 1\n",
    "    else:\n",
    "         print(\"This movie is not found in our database. Please check out the following movies \\n\", movies_df[['Title', 'Country', 'Genre2']].sample(10).reset_index(drop=True))"
   ]
  },
  {
   "cell_type": "code",
   "execution_count": null,
   "id": "bd533d0b",
   "metadata": {},
   "outputs": [],
   "source": [
    "movie_name = input('Enter your favorte movie:')\n",
    "movie_rec_system(movie_name)"
   ]
  },
  {
   "cell_type": "code",
   "execution_count": null,
   "id": "2b461db2",
   "metadata": {},
   "outputs": [],
   "source": []
  }
 ],
 "metadata": {
  "kernelspec": {
   "display_name": "Python 3",
   "language": "python",
   "name": "python3"
  },
  "language_info": {
   "codemirror_mode": {
    "name": "ipython",
    "version": 3
   },
   "file_extension": ".py",
   "mimetype": "text/x-python",
   "name": "python",
   "nbconvert_exporter": "python",
   "pygments_lexer": "ipython3",
   "version": "3.8.8"
  }
 },
 "nbformat": 4,
 "nbformat_minor": 5
}
